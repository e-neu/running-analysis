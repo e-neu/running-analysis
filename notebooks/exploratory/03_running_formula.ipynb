{
 "cells": [
  {
   "cell_type": "code",
   "execution_count": 2,
   "id": "000420a3-7a57-4e6d-a638-7f85596b3fbc",
   "metadata": {},
   "outputs": [
    {
     "ename": "ModuleNotFoundError",
     "evalue": "No module named 'pandas'",
     "output_type": "error",
     "traceback": [
      "\u001b[1;31m---------------------------------------------------------------------------\u001b[0m",
      "\u001b[1;31mModuleNotFoundError\u001b[0m                       Traceback (most recent call last)",
      "Input \u001b[1;32mIn [2]\u001b[0m, in \u001b[0;36m<cell line: 1>\u001b[1;34m()\u001b[0m\n\u001b[1;32m----> 1\u001b[0m \u001b[38;5;28;01mimport\u001b[39;00m \u001b[38;5;21;01mpandas\u001b[39;00m \u001b[38;5;28;01mas\u001b[39;00m \u001b[38;5;21;01mpd\u001b[39;00m\n",
      "\u001b[1;31mModuleNotFoundError\u001b[0m: No module named 'pandas'"
     ]
    }
   ],
   "source": [
    "import pandas as pd"
   ]
  },
  {
   "cell_type": "markdown",
   "id": "628b7c1f-a7d4-4e67-8871-2db04058b535",
   "metadata": {},
   "source": [
    "## How excess weight impacts your running pace"
   ]
  },
  {
   "cell_type": "code",
   "execution_count": 1,
   "id": "690a8ab3-7f84-438d-b18f-4e775e4ce209",
   "metadata": {},
   "outputs": [
    {
     "ename": "NameError",
     "evalue": "name 'pd' is not defined",
     "output_type": "error",
     "traceback": [
      "\u001b[1;31m---------------------------------------------------------------------------\u001b[0m",
      "\u001b[1;31mNameError\u001b[0m                                 Traceback (most recent call last)",
      "Input \u001b[1;32mIn [1]\u001b[0m, in \u001b[0;36m<cell line: 1>\u001b[1;34m()\u001b[0m\n\u001b[1;32m----> 1\u001b[0m df_weight \u001b[38;5;241m=\u001b[39m \u001b[43mpd\u001b[49m\u001b[38;5;241m.\u001b[39mDataFrame(np\u001b[38;5;241m.\u001b[39mlinspace(\u001b[38;5;241m82\u001b[39m,\u001b[38;5;241m74\u001b[39m,\u001b[38;5;241m17\u001b[39m), columns\u001b[38;5;241m=\u001b[39m[\u001b[38;5;124m'\u001b[39m\u001b[38;5;124mWeight\u001b[39m\u001b[38;5;124m'\u001b[39m])\n\u001b[0;32m      2\u001b[0m df_weight[\u001b[38;5;124m'\u001b[39m\u001b[38;5;124mPower\u001b[39m\u001b[38;5;124m'\u001b[39m] \u001b[38;5;241m=\u001b[39m \u001b[38;5;241m320\u001b[39m\n",
      "\u001b[1;31mNameError\u001b[0m: name 'pd' is not defined"
     ]
    }
   ],
   "source": [
    "df_weight = pd.DataFrame(np.linspace(82,74,17), columns=['Weight'])\n",
    "df_weight['Power'] = 320"
   ]
  },
  {
   "cell_type": "code",
   "execution_count": null,
   "id": "d5990b61-b608-44eb-92b8-31327bf896d0",
   "metadata": {},
   "outputs": [],
   "source": [
    "df_weight['Speed'] = df_weight.apply(lambda x: velocity(x['Power'], x['Weight']), axis=1)"
   ]
  },
  {
   "cell_type": "code",
   "execution_count": null,
   "id": "cff1a47b-2a67-4444-8568-9d4e31d06df7",
   "metadata": {},
   "outputs": [],
   "source": [
    "df_weight['Pace'] = 1000*df_weight['Speed']**-1\n",
    "df_weight['Pace'] = df_weight['Pace'].apply(lambda x: str(datetime.timedelta(seconds=x)))\n",
    "df_weight['Pace'] = pd.to_datetime(df_weight['Pace'])"
   ]
  },
  {
   "cell_type": "code",
   "execution_count": null,
   "id": "feec2613-530b-4ee9-acb7-a50dd91529e9",
   "metadata": {},
   "outputs": [],
   "source": [
    "from matplotlib.dates import DateFormatter, date2num\n",
    "\n",
    "fig, ax = plt.subplots()\n",
    "\n",
    "myFmt = DateFormatter(\"%M:%S\")\n",
    "ax.yaxis.set_major_formatter(myFmt)\n",
    "\n",
    "sns.set_theme(style=\"dark\", context=\"talk\")\n",
    "plt.style.use(\"dark_background\")\n",
    "\n",
    "lineplot = sns.lineplot(x='Weight', y='Pace', data=df_weight)\n",
    "lineplot.invert_xaxis()"
   ]
  }
 ],
 "metadata": {
  "kernelspec": {
   "display_name": "Python 3 (ipykernel)",
   "language": "python",
   "name": "python3"
  },
  "language_info": {
   "codemirror_mode": {
    "name": "ipython",
    "version": 3
   },
   "file_extension": ".py",
   "mimetype": "text/x-python",
   "name": "python",
   "nbconvert_exporter": "python",
   "pygments_lexer": "ipython3",
   "version": "3.10.4"
  }
 },
 "nbformat": 4,
 "nbformat_minor": 5
}
